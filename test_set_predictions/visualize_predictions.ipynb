{
 "cells": [
  {
   "cell_type": "code",
   "execution_count": null,
   "outputs": [],
   "source": [
    "import os\n",
    "from datetime import datetime\n",
    "import numpy as np\n",
    "from pathlib import Path\n",
    "import matplotlib.pyplot as plt\n",
    "from Bio import pairwise2\n",
    "from Bio.Seq import Seq\n",
    "from processing import load_results, generate_summary_stats\n",
    "from processing import plot_cer, plot_cer_confidence_interval, plot_fuzzy_match, plot_close_matches\n",
    "from processing import process_oboes"
   ],
   "metadata": {
    "collapsed": false,
    "pycharm": {
     "name": "#%%\n"
    }
   }
  },
  {
   "cell_type": "markdown",
   "source": [
    "# Load predictions"
   ],
   "metadata": {
    "collapsed": false,
    "pycharm": {
     "name": "#%% md\n"
    }
   }
  },
  {
   "cell_type": "code",
   "execution_count": null,
   "outputs": [],
   "source": [
    "filenames = list(Path('predictions/bayes_tuner_1-transfer_learned').glob('*.csv'))\n",
    "models, results = load_results(filenames)\n",
    "summary_results = generate_summary_stats(models, results)\n",
    "print([a[1] for a in models])\n",
    "results.head()"
   ],
   "metadata": {
    "collapsed": false,
    "pycharm": {
     "name": "#%%\n"
    }
   }
  },
  {
   "cell_type": "markdown",
   "source": [
    "# View summary stats"
   ],
   "metadata": {
    "collapsed": false,
    "pycharm": {
     "name": "#%% md\n"
    }
   }
  },
  {
   "cell_type": "code",
   "execution_count": null,
   "outputs": [],
   "source": [
    "summary_results[[('CER', 'mean'), ('CER_insensitive', 'mean'), ('CER_nopunc', 'mean'), \n",
    "                       ('matchratio', 'mean'), ('matchratio_insensitive', 'mean'), ('matchratio_nopunc', 'mean')]]"
   ],
   "metadata": {
    "collapsed": false,
    "pycharm": {
     "name": "#%%\n"
    }
   }
  },
  {
   "cell_type": "code",
   "execution_count": null,
   "outputs": [],
   "source": [
    "summary_results[['exact_matches', 'oboe_matches', 'cer_95_error_min', 'cer_95_error_max']]"
   ],
   "metadata": {
    "collapsed": false,
    "pycharm": {
     "name": "#%%\n"
    }
   }
  },
  {
   "cell_type": "markdown",
   "source": [
    "# Display graphs"
   ],
   "metadata": {
    "collapsed": false,
    "pycharm": {
     "name": "#%% md\n"
    }
   }
  },
  {
   "cell_type": "code",
   "execution_count": null,
   "outputs": [],
   "source": [
    "fig, ((graph1, graph2), (graph3, graph4)) = plt.subplots(2, 2, figsize=(20, 15))\n",
    "# fig, graph1 = plt.subplots(1, 1, figsize=(10, 7))  # For saving individual charts\n",
    "\n",
    "plot_cer(models, results, graph1)\n",
    "plot_cer_confidence_interval(models, summary_results, graph2)\n",
    "plot_fuzzy_match(models, results, graph3)\n",
    "plot_close_matches(models, results, summary_results, graph4)\n",
    "fig.tight_layout()"
   ],
   "metadata": {
    "collapsed": false,
    "pycharm": {
     "name": "#%%\n"
    }
   }
  },
  {
   "cell_type": "markdown",
   "source": [
    "# OBO String Comparisons"
   ],
   "metadata": {
    "collapsed": false,
    "pycharm": {
     "name": "#%% md\n"
    }
   }
  },
  {
   "cell_type": "code",
   "execution_count": null,
   "outputs": [],
   "source": [
    "plain_model_labels, substitution_errors, deletion_errors, insertion_errors = process_oboes(models, results)\n",
    "display_model = plain_model_labels[0]\n",
    "\n",
    "print(f'=========== {display_model} Summary: ===========')\n",
    "print('Top 10 Substitutions:')\n",
    "for key in list(substitution_errors[display_model])[:10]:\n",
    "    print(f'{key}: {substitution_errors[display_model][key]}')\n",
    "print('\\nTop 10 Deletions:')\n",
    "for key in list(deletion_errors[display_model])[:10]:\n",
    "    print(f'{key}: {deletion_errors[display_model][key]}')\n",
    "print('\\nTop 10 Insertions:')\n",
    "for key in list(insertion_errors[display_model])[:10]:\n",
    "    print(f'{key}: {insertion_errors[display_model][key]}')"
   ],
   "metadata": {
    "collapsed": false,
    "pycharm": {
     "name": "#%%\n"
    }
   }
  },
  {
   "cell_type": "code",
   "execution_count": null,
   "outputs": [],
   "source": [
    "comparison_model = plain_model_labels[1]\n",
    "plt.figure(figsize=(24, 8))\n",
    "plt.rc('xtick', labelsize=12)\n",
    "plt.rc('ytick', labelsize=12)\n",
    "plt.bar(np.arange(len(deletion_errors[display_model].keys())) - 0.225, deletion_errors[display_model].values(), 0.45, label = display_model)\n",
    "plt.bar(np.arange(len(deletion_errors[comparison_model].keys())) + 0.225, deletion_errors[comparison_model].values(), 0.45, label = comparison_model)\n",
    "plt.xticks(np.arange(len(deletion_errors[display_model].keys())) , deletion_errors[display_model].keys())\n",
    "plt.title(\"Deletion Errors\")\n",
    "plt.ylabel(\"Number of Occurrences\")\n",
    "plt.legend()\n",
    "plt.show()\n",
    "\n",
    "plt.figure(figsize=(24, 8))\n",
    "plt.rc('xtick', labelsize=12)\n",
    "plt.rc('ytick', labelsize=12)\n",
    "plt.bar(np.arange(len(insertion_errors[display_model].keys())) - 0.225, insertion_errors[display_model].values(), 0.45, label = display_model)\n",
    "plt.bar(np.arange(len(insertion_errors[comparison_model].keys())) + 0.225, insertion_errors[comparison_model].values(), 0.45, label = comparison_model)\n",
    "plt.xticks(np.arange(len(insertion_errors[display_model].keys())) , insertion_errors[display_model].keys())\n",
    "plt.title(\"Insertion Errors\")\n",
    "plt.ylabel(\"Number of Occurrences\")\n",
    "plt.legend()\n",
    "plt.show()"
   ],
   "metadata": {
    "collapsed": false,
    "pycharm": {
     "name": "#%%\n"
    }
   }
  },
  {
   "cell_type": "code",
   "execution_count": null,
   "outputs": [],
   "source": [
    "list_of_changes = []\n",
    "for idx, (ground_truth_label, model_label) in enumerate(models):\n",
    "    oboes = results[results[f'{model_label}-edit_distance']==1][[f'{model_label}-ground_truth', model_label]]\n",
    "    diffs = oboes.apply(lambda r: list(d.compare(r[f'{model_label}-ground_truth'], r[model_label])), axis=1)\n",
    "    diffs = diffs.apply(lambda r: [a for a in r if a[0] == '+' or a[0] == '-'])\n",
    "    list_of_changes.append(diffs)\n",
    "print(f'Top 10 changes in {models[0][1]}: {list(list_of_changes[0][0:10])}')\n",
    "print(f'Top 10 changes in {models[1][1]}: {list(list_of_changes[1][0:10])}')\n",
    "missing = list()\n",
    "added = list()\n",
    "for changes in list_of_changes:\n",
    "    missing_this_model = dict()\n",
    "    added_this_model = dict()\n",
    "    for change_list in changes:\n",
    "        for change in change_list:\n",
    "            if change[0] == '+':\n",
    "                added_value = change[2:]\n",
    "                if added_value in added_this_model.keys():\n",
    "                    added_this_model[added_value] += 1\n",
    "                else:\n",
    "                    added_this_model[added_value] = 1\n",
    "            elif change[0] == '-':\n",
    "                missing_value = change[2:]\n",
    "                if missing_value in missing_this_model.keys():\n",
    "                    missing_this_model[missing_value] += 1\n",
    "                else:\n",
    "                    missing_this_model[missing_value] = 1\n",
    "    missing_this_model = {k: v for k, v in sorted(missing_this_model.items(), key=lambda i: i[1], reverse=True)}\n",
    "    missing.append(missing_this_model)\n",
    "    added_this_model = {k: v for k, v in sorted(added_this_model.items(), key=lambda i: i[1], reverse=True)}\n",
    "    added.append(added_this_model)\n",
    "print(f'Top missing in {models[0][1]}: {missing[0]}')\n",
    "print(f'Top missing in {models[1][1]}: {missing[1]}')\n",
    "print(f'Top added in {models[0][1]}: {added[0]}')\n",
    "print(f'Top added in {models[1][1]}: {added[1]}')\n",
    "# char_sub_summary = pd.DataFrame(columns=['Missing])"
   ],
   "metadata": {
    "collapsed": false,
    "pycharm": {
     "name": "#%%\n"
    }
   }
  },
  {
   "cell_type": "code",
   "execution_count": null,
   "id": "a3cb9139-3aef-4bf1-af7a-e3702ec56fdc",
   "metadata": {
    "pycharm": {
     "name": "#%%\n"
    }
   },
   "outputs": [],
   "source": [
    "results_folder = 'results'\n",
    "if not os.path.exists(results_folder):\n",
    "    os.makedirs(results_folder)\n",
    "timestamp = datetime.now().strftime('%Y_%m_%d-%H_%M_%S')\n",
    "summary_results.to_csv(Path(results_folder, f'summary-{timestamp}.csv'))\n",
    "fig.savefig(Path(results_folder, f'summary-{timestamp}.png'))"
   ]
  }
 ],
 "metadata": {
  "kernelspec": {
   "display_name": "Python 3 (ipykernel)",
   "language": "python",
   "name": "python3"
  },
  "language_info": {
   "codemirror_mode": {
    "name": "ipython",
    "version": 3
   },
   "file_extension": ".py",
   "mimetype": "text/x-python",
   "name": "python",
   "nbconvert_exporter": "python",
   "pygments_lexer": "ipython3",
   "version": "3.7.12"
  }
 },
 "nbformat": 4,
 "nbformat_minor": 5
}