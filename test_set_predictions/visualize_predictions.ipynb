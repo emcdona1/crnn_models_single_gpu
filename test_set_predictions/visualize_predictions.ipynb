{
 "cells": [
  {
   "cell_type": "code",
   "execution_count": 2,
   "id": "f5628125-92bf-47a8-aa54-edb6ff561a2c",
   "metadata": {
    "scrolled": true,
    "tags": []
   },
   "outputs": [
    {
     "name": "stdout",
     "output_type": "stream",
     "text": [
      "Requirement already satisfied: asrtoolkit in /home/jupyter/.local/lib/python3.7/site-packages (0.2.4)\n",
      "Requirement already satisfied: num2words in /home/jupyter/.local/lib/python3.7/site-packages (from asrtoolkit) (0.5.10)\n",
      "Requirement already satisfied: pytest in /home/jupyter/.local/lib/python3.7/site-packages (from asrtoolkit) (7.1.2)\n",
      "Requirement already satisfied: fire in /home/jupyter/.local/lib/python3.7/site-packages (from asrtoolkit) (0.4.0)\n",
      "Requirement already satisfied: beautifulsoup4 in /opt/conda/lib/python3.7/site-packages (from asrtoolkit) (4.11.1)\n",
      "Requirement already satisfied: termcolor in /opt/conda/lib/python3.7/site-packages (from asrtoolkit) (1.1.0)\n",
      "Requirement already satisfied: webvtt-py in /home/jupyter/.local/lib/python3.7/site-packages (from asrtoolkit) (0.4.6)\n",
      "Requirement already satisfied: xlrd<=1.2.0 in /home/jupyter/.local/lib/python3.7/site-packages (from asrtoolkit) (1.2.0)\n",
      "Requirement already satisfied: tqdm in /opt/conda/lib/python3.7/site-packages (from asrtoolkit) (4.64.0)\n",
      "Requirement already satisfied: regex in /home/jupyter/.local/lib/python3.7/site-packages (from asrtoolkit) (2022.6.2)\n",
      "Requirement already satisfied: editdistance in /home/jupyter/.local/lib/python3.7/site-packages (from asrtoolkit) (0.6.0)\n",
      "Requirement already satisfied: soupsieve>1.2 in /opt/conda/lib/python3.7/site-packages (from beautifulsoup4->asrtoolkit) (2.3.1)\n",
      "Requirement already satisfied: six in /opt/conda/lib/python3.7/site-packages (from fire->asrtoolkit) (1.16.0)\n",
      "Requirement already satisfied: docopt>=0.6.2 in /opt/conda/lib/python3.7/site-packages (from num2words->asrtoolkit) (0.6.2)\n",
      "Requirement already satisfied: iniconfig in /home/jupyter/.local/lib/python3.7/site-packages (from pytest->asrtoolkit) (1.1.1)\n",
      "Requirement already satisfied: pluggy<2.0,>=0.12 in /opt/conda/lib/python3.7/site-packages (from pytest->asrtoolkit) (1.0.0)\n",
      "Requirement already satisfied: attrs>=19.2.0 in /opt/conda/lib/python3.7/site-packages (from pytest->asrtoolkit) (21.4.0)\n",
      "Requirement already satisfied: importlib-metadata>=0.12 in /opt/conda/lib/python3.7/site-packages (from pytest->asrtoolkit) (4.11.4)\n",
      "Requirement already satisfied: py>=1.8.2 in /home/jupyter/.local/lib/python3.7/site-packages (from pytest->asrtoolkit) (1.11.0)\n",
      "Requirement already satisfied: packaging in /opt/conda/lib/python3.7/site-packages (from pytest->asrtoolkit) (21.3)\n",
      "Requirement already satisfied: tomli>=1.0.0 in /opt/conda/lib/python3.7/site-packages (from pytest->asrtoolkit) (2.0.1)\n",
      "Requirement already satisfied: zipp>=0.5 in /opt/conda/lib/python3.7/site-packages (from importlib-metadata>=0.12->pytest->asrtoolkit) (3.8.0)\n",
      "Requirement already satisfied: typing-extensions>=3.6.4 in /opt/conda/lib/python3.7/site-packages (from importlib-metadata>=0.12->pytest->asrtoolkit) (4.2.0)\n",
      "Requirement already satisfied: pyparsing!=3.0.5,>=2.0.2 in /opt/conda/lib/python3.7/site-packages (from packaging->pytest->asrtoolkit) (3.0.9)\n",
      "Requirement already satisfied: fuzzywuzzy in /home/jupyter/.local/lib/python3.7/site-packages (0.18.0)\n",
      "Requirement already satisfied: python-Levenshtein in /home/jupyter/.local/lib/python3.7/site-packages (0.12.2)\n",
      "Requirement already satisfied: setuptools in /opt/conda/lib/python3.7/site-packages (from python-Levenshtein) (59.8.0)\n",
      "Requirement already satisfied: nltk in /opt/conda/lib/python3.7/site-packages (3.7)\n",
      "Requirement already satisfied: regex>=2021.8.3 in /home/jupyter/.local/lib/python3.7/site-packages (from nltk) (2022.6.2)\n",
      "Requirement already satisfied: tqdm in /opt/conda/lib/python3.7/site-packages (from nltk) (4.64.0)\n",
      "Requirement already satisfied: click in /opt/conda/lib/python3.7/site-packages (from nltk) (8.1.3)\n",
      "Requirement already satisfied: joblib in /opt/conda/lib/python3.7/site-packages (from nltk) (1.1.0)\n",
      "Requirement already satisfied: importlib-metadata in /opt/conda/lib/python3.7/site-packages (from click->nltk) (4.11.4)\n",
      "Requirement already satisfied: zipp>=0.5 in /opt/conda/lib/python3.7/site-packages (from importlib-metadata->click->nltk) (3.8.0)\n",
      "Requirement already satisfied: typing-extensions>=3.6.4 in /opt/conda/lib/python3.7/site-packages (from importlib-metadata->click->nltk) (4.2.0)\n"
     ]
    }
   ],
   "source": [
    "!pip install asrtoolkit\n",
    "!pip install fuzzywuzzy\n",
    "!pip install python-Levenshtein\n",
    "!pip install nltk\n",
    "\n",
    "import asrtoolkit\n",
    "from fuzzywuzzy import fuzz\n",
    "import io\n",
    "import os\n",
    "from datetime import datetime\n",
    "import numpy as np\n",
    "import pandas as pd\n",
    "from pathlib import Path\n",
    "import matplotlib.pyplot as plt\n",
    "from scipy import stats\n",
    "from nltk.metrics import distance\n",
    "import string\n",
    "from difflib import Differ"
   ]
  },
  {
   "cell_type": "markdown",
   "id": "ece8bb8a-30ee-4aa2-9841-3c69e04da115",
   "metadata": {
    "tags": []
   },
   "source": [
    "# Load and prep statistics"
   ]
  },
  {
   "cell_type": "code",
   "execution_count": 3,
   "id": "db81c943-1914-4c66-995d-251554a21e9c",
   "metadata": {},
   "outputs": [
    {
     "data": {
      "text/html": [
       "<div>\n",
       "<style scoped>\n",
       "    .dataframe tbody tr th:only-of-type {\n",
       "        vertical-align: middle;\n",
       "    }\n",
       "\n",
       "    .dataframe tbody tr th {\n",
       "        vertical-align: top;\n",
       "    }\n",
       "\n",
       "    .dataframe thead th {\n",
       "        text-align: right;\n",
       "    }\n",
       "</style>\n",
       "<table border=\"1\" class=\"dataframe\">\n",
       "  <thead>\n",
       "    <tr style=\"text-align: right;\">\n",
       "      <th></th>\n",
       "      <th>fine_tuned-ground_truth</th>\n",
       "      <th>fine_tuned</th>\n",
       "      <th>retrained-ground_truth</th>\n",
       "      <th>retrained</th>\n",
       "    </tr>\n",
       "  </thead>\n",
       "  <tbody>\n",
       "    <tr>\n",
       "      <th>0</th>\n",
       "      <td>.)</td>\n",
       "      <td>\"</td>\n",
       "      <td>.)</td>\n",
       "      <td>\"</td>\n",
       "    </tr>\n",
       "    <tr>\n",
       "      <th>1</th>\n",
       "      <td>Maxon</td>\n",
       "      <td>Maan</td>\n",
       "      <td>Maxon</td>\n",
       "      <td>saan</td>\n",
       "    </tr>\n",
       "    <tr>\n",
       "      <th>2</th>\n",
       "      <td>delitescens</td>\n",
       "      <td>dillilconan</td>\n",
       "      <td>delitescens</td>\n",
       "      <td>didlicone</td>\n",
       "    </tr>\n",
       "    <tr>\n",
       "      <th>3</th>\n",
       "      <td>radicans</td>\n",
       "      <td>Pilicana</td>\n",
       "      <td>radicans</td>\n",
       "      <td>Bilicana'</td>\n",
       "    </tr>\n",
       "    <tr>\n",
       "      <th>4</th>\n",
       "      <td>Damp</td>\n",
       "      <td>trtt</td>\n",
       "      <td>Damp</td>\n",
       "      <td>tate</td>\n",
       "    </tr>\n",
       "    <tr>\n",
       "      <th>...</th>\n",
       "      <td>...</td>\n",
       "      <td>...</td>\n",
       "      <td>...</td>\n",
       "      <td>...</td>\n",
       "    </tr>\n",
       "    <tr>\n",
       "      <th>400</th>\n",
       "      <td>ropinqua</td>\n",
       "      <td>pospirnou</td>\n",
       "      <td>ropinqua</td>\n",
       "      <td>pospirspove</td>\n",
       "    </tr>\n",
       "    <tr>\n",
       "      <th>401</th>\n",
       "      <td>macrosora</td>\n",
       "      <td>aarsu</td>\n",
       "      <td>macrosora</td>\n",
       "      <td>aarssou</td>\n",
       "    </tr>\n",
       "    <tr>\n",
       "      <th>402</th>\n",
       "      <td>Chr</td>\n",
       "      <td>po.</td>\n",
       "      <td>Chr</td>\n",
       "      <td>ph.</td>\n",
       "    </tr>\n",
       "    <tr>\n",
       "      <th>403</th>\n",
       "      <td>Polypodium</td>\n",
       "      <td>Beleuiaem</td>\n",
       "      <td>Polypodium</td>\n",
       "      <td>Bolebesa</td>\n",
       "    </tr>\n",
       "    <tr>\n",
       "      <th>404</th>\n",
       "      <td>plesio</td>\n",
       "      <td>Pas</td>\n",
       "      <td>plesio</td>\n",
       "      <td>maen</td>\n",
       "    </tr>\n",
       "  </tbody>\n",
       "</table>\n",
       "<p>405 rows × 4 columns</p>\n",
       "</div>"
      ],
      "text/plain": [
       "    fine_tuned-ground_truth   fine_tuned retrained-ground_truth    retrained\n",
       "0                        .)            \"                     .)            \"\n",
       "1                     Maxon         Maan                  Maxon         saan\n",
       "2               delitescens  dillilconan            delitescens    didlicone\n",
       "3                  radicans     Pilicana               radicans    Bilicana'\n",
       "4                      Damp         trtt                   Damp         tate\n",
       "..                      ...          ...                    ...          ...\n",
       "400                ropinqua    pospirnou               ropinqua  pospirspove\n",
       "401               macrosora        aarsu              macrosora      aarssou\n",
       "402                     Chr          po.                    Chr          ph.\n",
       "403              Polypodium    Beleuiaem             Polypodium     Bolebesa\n",
       "404                  plesio          Pas                 plesio         maen\n",
       "\n",
       "[405 rows x 4 columns]"
      ]
     },
     "execution_count": 3,
     "metadata": {},
     "output_type": "execute_result"
    }
   ],
   "source": [
    "filenames = list(Path('predictions').glob('*.csv'))\n",
    "\n",
    "results = pd.DataFrame()\n",
    "\n",
    "models = list()\n",
    "\n",
    "for idx, filename in enumerate(filenames):\n",
    "    new_results = pd.read_csv(filename)\n",
    "    model_label = Path(filename).stem.split('-')[0]\n",
    "    ground_truth_label = f'{model_label}-ground_truth'\n",
    "    new_results = new_results.rename(columns={'label': ground_truth_label, \n",
    "                            'prediction': model_label})\n",
    "    del new_results['Unnamed: 0']\n",
    "    models.append((ground_truth_label, model_label))\n",
    "    new_results[ground_truth_label] = new_results.apply(lambda r: str(r[ground_truth_label]), axis=1)\n",
    "    new_results[model_label] = new_results.apply(lambda r: str(r[model_label]), axis=1)\n",
    "    results = pd.concat([results, new_results], axis = 1)\n",
    "\n",
    "results"
   ]
  },
  {
   "cell_type": "code",
   "execution_count": 4,
   "id": "fdc3136a-f29f-4394-a398-b980e1b31477",
   "metadata": {},
   "outputs": [
    {
     "data": {
      "text/plain": [
       "[('fine_tuned-ground_truth', 'fine_tuned'),\n",
       " ('retrained-ground_truth', 'retrained')]"
      ]
     },
     "execution_count": 4,
     "metadata": {},
     "output_type": "execute_result"
    }
   ],
   "source": [
    "models"
   ]
  },
  {
   "cell_type": "code",
   "execution_count": 5,
   "id": "4a976692-854e-4168-a0b0-dd586595719f",
   "metadata": {},
   "outputs": [],
   "source": [
    "NUM_STATS = 6\n",
    "NUM_SUB_STATS = 5\n",
    "a = ['matchratio'] * NUM_SUB_STATS + ['CER'] * NUM_SUB_STATS + ['matchratio_insensitive'] * NUM_SUB_STATS + ['CER_insensitive'] * NUM_SUB_STATS + ['matchratio_nopunc'] * NUM_SUB_STATS + ['CER_nopunc'] * NUM_SUB_STATS\n",
    "b = ['mean', 'min', 'max', 'stdev', 'median'] * NUM_STATS\n",
    "headers = pd.MultiIndex.from_arrays([a,b], names=('stat', 'substats'))\n",
    "summary_results = pd.DataFrame(columns=headers)\n",
    "\n",
    "def apply_stat(model_label: str, query_label: str, summary_stat_label: str, stat_function):\n",
    "    results[query_label] = subset.apply(stat_function, axis=1)\n",
    "    summary_results.loc[model_label, (summary_stat_label, 'mean')] = results[query_label].mean()\n",
    "    summary_results.loc[model_label, (summary_stat_label, 'stdev')] = results[query_label].std()\n",
    "    summary_results.loc[model_label, (summary_stat_label, 'min')] = results[query_label].min()\n",
    "    summary_results.loc[model_label, (summary_stat_label, 'median')] = results[query_label].median()\n",
    "    summary_results.loc[model_label, (summary_stat_label, 'max')] = results[query_label].max()\n",
    "    subset[query_label] = results[query_label]\n",
    "    \n",
    "for ground_truth_label, model_label in models:\n",
    "    subset = results[[ground_truth_label, model_label]].dropna()\n",
    "    \n",
    "    apply_stat(model_label, f'{model_label} CER', 'CER', lambda r: asrtoolkit.cer(str(r[ground_truth_label]), str(r[model_label])))\n",
    "    apply_stat(model_label, f'{model_label} match ratio', 'matchratio', lambda r: fuzz.ratio(str(r[ground_truth_label]), str(r[model_label])))\n",
    "    results[f'{model_label}-edit_distance'] = subset.apply(lambda r: distance.edit_distance(str(r[ground_truth_label]), str(r[model_label])), axis=1)\n",
    "    \n",
    "    subset[f'{ground_truth_label}-lower'] = subset[ground_truth_label].map(str.lower)\n",
    "    subset[f'{model_label}-lower'] = subset[model_label].map(str.lower)\n",
    "    apply_stat(model_label, f'{model_label} CER insensitive', 'CER_insensitive', lambda r: asrtoolkit.cer(str(r[f'{ground_truth_label}-lower']), str(r[f'{model_label}-lower'])))\n",
    "    apply_stat(model_label, f'{model_label} match ratio insensitive', 'matchratio_insensitive', lambda r: fuzz.ratio(str(r[f'{ground_truth_label}-lower']), str(r[f'{model_label}-lower'])))\n",
    "    \n",
    "    subset[f'{ground_truth_label}-nopunc'] = subset[ground_truth_label].map(lambda s: s.translate(str.maketrans('', '', string.punctuation)))\n",
    "    subset = subset.loc[subset[f'{ground_truth_label}-nopunc'].str.len() > 0]\n",
    "    subset[f'{model_label}-nopunc'] = subset[model_label].map(lambda s: s.translate(str.maketrans('', '', string.punctuation)))\n",
    "    subset = subset.loc[subset[f'{model_label}-nopunc'].str.len() > 0]\n",
    "    apply_stat(model_label, f'{model_label} CER no punc', 'CER_nopunc', lambda r: asrtoolkit.cer(str(r[f'{ground_truth_label}-nopunc']), str(r[f'{model_label}-nopunc'])))\n",
    "    apply_stat(model_label, f'{model_label} match ratio no punc', 'matchratio_nopunc',  lambda r: fuzz.ratio(str(r[f'{ground_truth_label}-lower']), str(r[f'{model_label}-lower'])))\n",
    "    \n",
    "    exact = results.apply(lambda r: 1 if int(r[f'{model_label}-edit_distance']) == 0 else 0, axis=1).sum()\n",
    "    oboe = results.apply(lambda r: 1 if int(r[f'{model_label}-edit_distance']) == 1 else 0, axis=1).sum()\n",
    "    summary_results.loc[model_label, 'exact_matches'] = pd.to_numeric(exact, downcast='integer')\n",
    "    summary_results.loc[model_label, 'oboe_matches'] = pd.to_numeric(oboe, downcast='integer')\n",
    "    \n",
    "    err_range = stats.norm.interval(alpha=0.95, \n",
    "                                  loc=np.mean(results[f'{model_label} CER'].dropna()), \n",
    "                                  scale=stats.sem(results[f'{model_label} CER'].dropna()))\n",
    "    summary_results.loc[model_label, 'cer_95_error_min'] = err_range[0]\n",
    "    summary_results.loc[model_label, 'cer_95_error_max'] = err_range[1]"
   ]
  },
  {
   "cell_type": "code",
   "execution_count": 6,
   "id": "c1dcd3b5-449c-4b8c-8899-3ddcdf50d472",
   "metadata": {},
   "outputs": [
    {
     "name": "stdout",
     "output_type": "stream",
     "text": [
      "stat              CER CER_insensitive CER_nopunc matchratio  \\\n",
      "substats         mean            mean       mean       mean   \n",
      "fine_tuned  82.642721       82.642721  81.595089  32.355556   \n",
      "retrained   85.369435       85.418818  85.361541  29.454321   \n",
      "\n",
      "stat       matchratio_insensitive matchratio_nopunc  \n",
      "substats                     mean              mean  \n",
      "fine_tuned              34.254321         35.231383  \n",
      "retrained               31.377778         32.470588  \n",
      "stat       exact_matches oboe_matches cer_95_error_min cer_95_error_max\n",
      "substats                                                               \n",
      "fine_tuned           3.0         24.0        76.661839        88.623603\n",
      "retrained            1.0         23.0        82.230860        88.508010\n"
     ]
    }
   ],
   "source": [
    "print(summary_results[[('CER', 'mean'), ('CER_insensitive', 'mean'), ('CER_nopunc', 'mean'), \n",
    "                       ('matchratio', 'mean'), ('matchratio_insensitive', 'mean'), ('matchratio_nopunc', 'mean')]])\n",
    "print(summary_results[['exact_matches', 'oboe_matches', 'cer_95_error_min', 'cer_95_error_max']])"
   ]
  },
  {
   "cell_type": "markdown",
   "id": "f38e43d1-d862-48c3-9330-1757bbed3d8a",
   "metadata": {
    "tags": []
   },
   "source": [
    "# Generate and display graphs"
   ]
  },
  {
   "cell_type": "code",
   "execution_count": 8,
   "id": "fd328914-d31c-40d7-bec4-4c53ade2d8d2",
   "metadata": {},
   "outputs": [
    {
     "name": "stderr",
     "output_type": "stream",
     "text": [
      "/opt/conda/lib/python3.7/site-packages/ipykernel_launcher.py:3: UserWarning: FixedFormatter should only be used together with FixedLocator\n",
      "  This is separate from the ipykernel package so we can avoid doing imports until\n",
      "/opt/conda/lib/python3.7/site-packages/ipykernel_launcher.py:18: UserWarning: FixedFormatter should only be used together with FixedLocator\n",
      "/opt/conda/lib/python3.7/site-packages/ipykernel_launcher.py:28: UserWarning: FixedFormatter should only be used together with FixedLocator\n"
     ]
    },
    {
     "data": {
      "image/png": "[encoded data removed]",
      "text/plain": [
       "<Figure size 1440x720 with 4 Axes>"
      ]
     },
     "metadata": {
      "needs_background": "light"
     },
     "output_type": "display_data"
    }
   ],
   "source": [
    "def plot_cer(graph):\n",
    "    graph.set_title('Character Error Rate (CER)')\n",
    "    graph.set_xticklabels([label[1] for label in models])\n",
    "    graph.set_ylim([-1, 400])\n",
    "    subset = results[[f'{label[1]} CER' for label in models]].T\n",
    "    subset = np.asarray([model[1].dropna() for model in subset.iterrows()], dtype=object).T\n",
    "    graph = graph.boxplot(subset)\n",
    "\n",
    "\n",
    "def plot_cer_confidence_interval(graph):\n",
    "    min = summary_results['cer_95_error_min']\n",
    "    min = min.apply(lambda v: v if v >= 0 else 0)\n",
    "    max = summary_results['cer_95_error_max']\n",
    "    max = max.apply(lambda v: v if v <= 100 else 100)\n",
    "    error_min = [summary_results.loc[label[1], ('CER', 'mean')] - min[label[1]] for label in models]\n",
    "    error_max = [max[label[1]] - summary_results.loc[label[1], ('CER', 'mean')] for label in models]\n",
    "    graph.set_title('CER 95% confidence interval')\n",
    "    graph.set_xticklabels([label[1] for label in models])\n",
    "    graph.set_ylim(top=100)\n",
    "    graph.errorbar([label[1] for label in models], summary_results[('CER', 'mean')], yerr=[error_min, error_max], fmt='o')\n",
    "    for i in range(len(models)):\n",
    "        graph.text(i + 0.05, max[i] - 2, f'{max[i]:.3f}')\n",
    "        graph.text(i + 0.05, min[i] + 1, f'{min[i]:.3f}')\n",
    "\n",
    "\n",
    "def plot_fuzzy_match(graph):\n",
    "    graph.set_title('Fuzzy Match Ratio')\n",
    "    graph.set_xticklabels([label[1] for label in models])\n",
    "    subset = results[[f'{label[1]} match ratio' for label in models]].T\n",
    "    subset = np.asarray([model[1].dropna() for model in subset.iterrows()], dtype=object).T\n",
    "    graph = graph.boxplot(subset)\n",
    "\n",
    "\n",
    "def plot_close_matches(graph):  # todo\n",
    "    graph.set_title('% of Exact/Almost Exact String Matches')\n",
    "    exact_matches = [match/results.shape[0] for match in summary_results['exact_matches']]\n",
    "    obo_matches = [match/results.shape[0] for match in summary_results['oboe_matches']]\n",
    "    ex = graph.bar([label[1] for label in models], exact_matches, \n",
    "                   width=0.3, label='Exact match')\n",
    "    obo = graph.bar([label[1] for label in models], obo_matches, \n",
    "                    width=0.3, bottom=exact_matches, label='Off by one')\n",
    "    graph.set_ybound(0.5, 1)\n",
    "    graph.legend()\n",
    "\n",
    "\n",
    "fig, ((graph1, graph2), (graph3, graph4)) = plt.subplots(2, 2, figsize=(20, 10))\n",
    "# fig, graph1 = plt.subplots(1, 1, figsize=(10, 7))  # For saving individual charts\n",
    "\n",
    "plot_cer(graph1)\n",
    "plot_cer_confidence_interval(graph2)\n",
    "plot_fuzzy_match(graph3)\n",
    "plot_close_matches(graph4)\n",
    "fig.tight_layout()"
   ]
  },
  {
   "cell_type": "markdown",
   "id": "91ea710b-8355-4f41-9865-d566b05cc62b",
   "metadata": {},
   "source": [
    "# OBO String Comparisons"
   ]
  },
  {
   "cell_type": "code",
   "execution_count": null,
   "id": "14c87c40-db0a-4343-84a5-084b4fcea5ba",
   "metadata": {},
   "outputs": [],
   "source": [
    "from Bio import pairwise2\n",
    "from Bio.Seq import Seq\n",
    "seq1 = Seq('foot')\n",
    "seq2 = Seq('moot')\n",
    "a = pairwise2.align.globalxx(seq1, seq2)\n",
    "print(pairwise2.format_alignment(*a[0]))\n",
    "a[0].end"
   ]
  },
  {
   "cell_type": "code",
   "execution_count": 100,
   "id": "b55a0007-fc46-454b-990f-72ec88f67c66",
   "metadata": {},
   "outputs": [],
   "source": [
    "d = Differ()\n",
    "substitution_errors = list()\n",
    "deletion_errors = [dict()]\n",
    "CHAR_LIST = '\\' !\"#&()[]*+,-./0123456789:;?ABCDEFGHIJKLMNOPQRSTUVWXYZabcdefghijklmnopqrstuvwxyz'\n",
    "deletion_errors[0] = {c:0 for c in list(CHAR_LIST)}\n",
    "insertion_errors = deletion_errors * 4\n",
    "deletion_errors = deletion_errors * 4\n",
    "    \n",
    "for ground_truth_label, model_label in models:\n",
    "    oboe = results[results[f'{model_label}-edit_distance'] == 1][[ground_truth_label, model_label]]\n",
    "    subs = dict()\n",
    "    dels = deletion_errors[len(models) - 1]\n",
    "    ins = deletion_errors[len(models) - 1]\n",
    "    # print(oboe)\n",
    "    for idx, row in oboe.iterrows():\n",
    "        differ_result = list(d.compare(row[ground_truth_label], row[model_label]))\n",
    "        removed = [c[2] for c in differ_result if c[0] == '-']\n",
    "        added = [c[2] for c in differ_result if c[0] == '+']\n",
    "        assert len(removed) < 2 and len(added) < 2, f'Lens are wrong, -: {removed}, +: {added}'\n",
    "        if len(row[ground_truth_label]) == len(row[model_label]):\n",
    "            sub_chars = (removed[0], added[0])\n",
    "            # print(f'sub: {sub_chars}')\n",
    "            if sub_chars in subs.keys():\n",
    "                subs[sub_chars] += 1\n",
    "            else:\n",
    "                subs[sub_chars] = 1\n",
    "        elif len(row[ground_truth_label]) > len(row[model_label]):\n",
    "            del_char = removed[0]\n",
    "            # print(f'del: {del_char}')\n",
    "            dels[del_char] += 1\n",
    "        else:\n",
    "            ins_char = added[0]\n",
    "            # print(f'ins: {ins_char}')\n",
    "            ins[ins_char] += 1\n",
    "    substitution_errors.append(subs)\n",
    "    deletion_errors.append(dels)\n",
    "    insertion_errors.append(ins)\n",
    "substitution_errors = [dict(sorted(a.items(), key=lambda item: item[1], reverse=True)) for a in substitution_errors]\n",
    "# deletion_errors = [dict(sorted(a.items(), key=lambda item: item[1], reverse=True)) for a in deletion_errors]\n",
    "# insertion_errors = [dict(sorted(a.items(), key=lambda item: item[1], reverse=True)) for a in insertion_errors]"
   ]
  },
  {
   "cell_type": "code",
   "execution_count": 124,
   "id": "7bf7eb8f-6833-4c73-8cb0-82f36ce5212c",
   "metadata": {},
   "outputs": [
    {
     "data": {
      "image/png": "[encoded data removed]",
      "text/plain": [
       "<Figure size 1728x576 with 1 Axes>"
      ]
     },
     "metadata": {
      "needs_background": "light"
     },
     "output_type": "display_data"
    },
    {
     "data": {
      "image/png": "[encoded data removed]",
      "text/plain": [
       "<Figure size 1728x576 with 1 Axes>"
      ]
     },
     "metadata": {
      "needs_background": "light"
     },
     "output_type": "display_data"
    }
   ],
   "source": [
    "# print('Top Substitutions:')\n",
    "# for key in list(substitution_errors[0])[:10]:\n",
    "#     print(f'{key}: {substitution_errors[0][key]}')\n",
    "# print('\\nTop Deletions:')\n",
    "# for key in list(deletion_errors[0])[:10]:\n",
    "#     print(f'{key}: {deletion_errors[0][key]}')\n",
    "# print('\\nTop Insertions:')\n",
    "# for key in list(insertion_errors[0])[:10]:\n",
    "#     print(f'{key}: {insertion_errors[0][key]}')\n",
    "\n",
    "plt.figure(figsize=(24,8))\n",
    "plt.rc('xtick', labelsize=12)\n",
    "plt.rc('ytick', labelsize=12)\n",
    "plt.bar(np.arange(len(deletion_errors[0].keys())) - 0.225, deletion_errors[0].values(), 0.45, label = models[0][1])\n",
    "plt.bar(np.arange(len(deletion_errors[0].keys())) + 0.225, deletion_errors[1].values(), 0.45, label = models[1][1])\n",
    "plt.xticks(np.arange(len(deletion_errors[0].keys())) , deletion_errors[0].keys())\n",
    "plt.title(\"Deletion Errors\")\n",
    "plt.ylabel(\"Number of Occurrences\")\n",
    "plt.legend()\n",
    "plt.show()\n",
    "\n",
    "plt.figure(figsize=(24,8))\n",
    "plt.rc('xtick', labelsize=12)\n",
    "plt.rc('ytick', labelsize=12)\n",
    "plt.bar(np.arange(len(insertion_errors[0].keys())) - 0.225, insertion_errors[0].values(), 0.45, label = models[0][1])\n",
    "plt.bar(np.arange(len(insertion_errors[0].keys())) + 0.225, insertion_errors[1].values(), 0.45, label = models[1][1])\n",
    "plt.xticks(np.arange(len(insertion_errors[0].keys())) , insertion_errors[0].keys())\n",
    "plt.title(\"Insertion Errors\")\n",
    "plt.ylabel(\"Number of Occurrences\")\n",
    "plt.legend()\n",
    "plt.show()"
   ]
  },
  {
   "cell_type": "code",
   "execution_count": 173,
   "id": "5d7f301b-981d-4c1f-a93e-dabe76c010c5",
   "metadata": {},
   "outputs": [
    {
     "name": "stdout",
     "output_type": "stream",
     "text": [
      "0     [- A, + \"]\n",
      "3     [- F, + T]\n",
      "6     [- o, + e]\n",
      "17         [+ t]\n",
      "22    [+ I, - l]\n",
      "23         [+ c]\n",
      "30    [- B, + S]\n",
      "37    [- ,, + \"]\n",
      "40    [- S, + s]\n",
      "47         [- s]\n",
      "dtype: object\n",
      "['A', 'F', 'o', 'l', 'B', ',', 'S', 's', ',', 'D']\n",
      "['\"', 'T', 'e', 't', 'I', 'c', 'S', '\"', 's', '\"']\n"
     ]
    }
   ],
   "source": [
    "list_of_changes = list()\n",
    "for ground_truth_label, model_label in models:\n",
    "    oboes = results[results[f'{model_label}-edit_distance']==1][[f'{model_label}-ground_truth', model_label]]\n",
    "    diffs = oboes.apply(lambda r: list(d.compare(r[f'{model_label}-ground_truth'], r[model_label])), axis=1)\n",
    "    diffs = diffs.apply(lambda r: [a for a in r if a[0] == '+' or a[0] == '-'])\n",
    "    list_of_changes.append(diffs)\n",
    "print(list_of_changes[0][0:10])\n",
    "missing = list()\n",
    "added = list()\n",
    "for changes in list_of_changes:\n",
    "    missing_this_model = list()\n",
    "    added_this_model = list()\n",
    "    for change_list in changes:\n",
    "        for change in change_list:\n",
    "            if change[0] == '+':\n",
    "                added_this_model.append(change[2:])\n",
    "            elif change[0] == '-':\n",
    "                missing_this_model.append(change[2:])\n",
    "    missing.append(missing_this_model)\n",
    "    added.append(added_this_model)\n",
    "print(missing[0][0:10])\n",
    "print(added[0][0:10])\n",
    "# char_sub_summary = pd.DataFrame(columns=['Missing])"
   ]
  },
  {
   "cell_type": "markdown",
   "id": "e07ca55c-844d-413e-80d5-b260d2c30285",
   "metadata": {},
   "source": [
    "# Save these results to the filesystem"
   ]
  },
  {
   "cell_type": "code",
   "execution_count": 131,
   "id": "a3cb9139-3aef-4bf1-af7a-e3702ec56fdc",
   "metadata": {},
   "outputs": [],
   "source": [
    "results_folder = 'results'\n",
    "if not os.path.exists(results_folder):\n",
    "    os.makedirs(results_folder)\n",
    "timestamp = datetime.now().strftime('%Y_%m_%d-%H_%M_%S')\n",
    "summary_results.to_csv(Path(results_folder, f'summary-{timestamp}.csv'))\n",
    "fig.savefig(Path(results_folder, f'summary-{timestamp}.png'))"
   ]
  }
 ],
 "metadata": {
  "kernelspec": {
   "display_name": "TensorFlow 2 (Local)",
   "language": "python",
   "name": "local-tf2"
  },
  "language_info": {
   "codemirror_mode": {
    "name": "ipython",
    "version": 3
   },
   "file_extension": ".py",
   "mimetype": "text/x-python",
   "name": "python",
   "nbconvert_exporter": "python",
   "pygments_lexer": "ipython3",
   "version": "3.7.12"
  }
 },
 "nbformat": 4,
 "nbformat_minor": 5
}
