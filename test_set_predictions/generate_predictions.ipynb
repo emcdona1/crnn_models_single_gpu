{
 "cells": [
  {
   "cell_type": "code",
   "execution_count": null,
   "id": "6f573389-89aa-4eef-b8e4-71471d296f5f",
   "metadata": {},
   "outputs": [],
   "source": [
    "import sys\n",
    "import os\n",
    "root_dir = os.path.join(os.getcwd(), '..')\n",
    "sys.path.append(root_dir)\n",
    "\n",
    "from pathlib import Path\n",
    "import tensorflow as tf\n",
    "import pandas as pd\n",
    "import numpy as np\n",
    "\n",
    "from utilities import create_model\n",
    "from utilities import TestConfiguration\n",
    "from utilities import TestDataset\n",
    "config = TestConfiguration()\n",
    "\n",
    "IMAGE_SET_NAME = 'standley_4058_test' # 'IAM_Words_test'\n",
    "METADATA_FILENAME = 'words_metadata.csv'"
   ]
  },
  {
   "cell_type": "markdown",
   "id": "0859eb83-c121-408d-9f94-1b5456918e14",
   "metadata": {
    "tags": []
   },
   "source": [
    "## Load the test set locally"
   ]
  },
  {
   "cell_type": "code",
   "execution_count": null,
   "id": "26d23c9b-bf4b-44fd-bb99-6ed91ec74afe",
   "metadata": {
    "scrolled": true,
    "tags": []
   },
   "outputs": [],
   "source": [
    "# OPTIONAL: Download test set from Google Cloud Storage\n",
    "IMAGE_BUCKET = 'fmnh_datasets'\n",
    "\n",
    "storage_path = f'gs://{IMAGE_BUCKET}/{IMAGE_SET_NAME}/'\n",
    "!gsutil -m cp -r $storage_path ../images"
   ]
  },
  {
   "cell_type": "code",
   "execution_count": null,
   "id": "ff0c2fe3-bc30-4872-a7fc-9d6b8e38a20e",
   "metadata": {},
   "outputs": [],
   "source": [
    "local_image_location = f'../images/{IMAGE_SET_NAME}'\n",
    "data_dir = Path(local_image_location)\n",
    "\n",
    "test_dataset = TestDataset()\n",
    "test_dataset.create_dataset(32, data_dir, METADATA_FILENAME)"
   ]
  },
  {
   "cell_type": "markdown",
   "id": "5bff72c2-b9f3-4958-add2-5af98f537d14",
   "metadata": {},
   "source": [
    "## Model loading"
   ]
  },
  {
   "cell_type": "code",
   "execution_count": null,
   "id": "273f6e73-f1e3-47bb-b935-24c8207da198",
   "metadata": {},
   "outputs": [],
   "source": [
    "# Load model from Google Cloud Storage\n",
    "MODEL_BUCKET = 'fmnh_models'\n",
    "MODEL_NAME = '13-iam_train-run_55-standley_train-100e_01lr_fine_tuned_100e'\n",
    "if not os.path.exists('models'):\n",
    "    os.makedirs('models')\n",
    "\n",
    "model_uri = f'gs://{MODEL_BUCKET}/{MODEL_NAME}'\n",
    "!gsutil -m cp -r $model_uri ./models/\n",
    "prediction_model_filename = Path(f'./models/{MODEL_NAME}')\n",
    "prediction_model = tf.keras.models.load_model(prediction_model_filename)"
   ]
  },
  {
   "cell_type": "code",
   "execution_count": null,
   "id": "e65ac510-5057-4a7c-8e03-bdef5c9699ed",
   "metadata": {},
   "outputs": [],
   "source": [
    "# OR, load model from local filesystem\n",
    "MODEL_NAME = 'fine_tuned-prediction'\n",
    "model_location = Path(f'../transfer_learning/{MODEL_NAME}')\n",
    "prediction_model = tf.keras.models.load_model(model_location)"
   ]
  },
  {
   "cell_type": "code",
   "execution_count": null,
   "id": "d96ea391-8063-4120-a0aa-7ae76e60a801",
   "metadata": {},
   "outputs": [],
   "source": [
    "# OR, use already-downloaded model\n",
    "MODEL_NAME = 'iam_train-run_55'\n",
    "model_location = Path(f'./models/{MODEL_NAME}')\n",
    "prediction_model = tf.keras.models.load_model(model_location)"
   ]
  },
  {
   "cell_type": "code",
   "execution_count": null,
   "id": "d94d42b7-e3e2-4022-a9f3-f00335c7b603",
   "metadata": {},
   "outputs": [],
   "source": [
    "opt = tf.keras.optimizers.Adam()\n",
    "prediction_model.compile(optimizer=opt)"
   ]
  },
  {
   "cell_type": "markdown",
   "id": "66bec88a-03be-4068-a6c8-563ddc65a2ba",
   "metadata": {},
   "source": [
    "## Prediction generation"
   ]
  },
  {
   "cell_type": "code",
   "execution_count": null,
   "id": "7f3954de-b7f9-4fc8-a44c-13e4df224852",
   "metadata": {
    "scrolled": true,
    "tags": []
   },
   "outputs": [],
   "source": [
    "prediction_results = pd.DataFrame(columns=['label', 'prediction'])\n",
    "for batch in test_dataset.test_dataset:\n",
    "    images = batch['image']\n",
    "    labels = batch['label']\n",
    "    preds = prediction_model.predict(images)\n",
    "    pred_texts = test_dataset.decode_batch_predictions(preds)\n",
    "    pred_texts = [t.replace('[UNK]', '').replace(' ', '') for t in pred_texts]\n",
    "    orig_texts = []\n",
    "    for label in labels:\n",
    "        label = tf.strings.reduce_join(test_dataset.num_to_char(label)).numpy().decode(\"utf-8\")\n",
    "        orig_texts.append(label)\n",
    "    orig_texts = [t.replace('[UNK]', '').replace(' ', '') for t in orig_texts]\n",
    "    new_results = pd.DataFrame(zip(orig_texts, pred_texts), columns=['label', 'prediction'])\n",
    "    prediction_results = prediction_results.append(new_results, ignore_index=True)\n",
    "print(prediction_results)\n",
    "\n",
    "if not os.path.exists('predictions'):\n",
    "    os.makedirs('predictions')\n",
    "prediction_results.to_csv(Path('predictions', f'{MODEL_NAME}-predictions.csv'))"
   ]
  }
 ],
 "metadata": {
  "kernelspec": {
   "display_name": "TensorFlow 2 (Local)",
   "language": "python",
   "name": "local-tf2"
  },
  "language_info": {
   "codemirror_mode": {
    "name": "ipython",
    "version": 3
   },
   "file_extension": ".py",
   "mimetype": "text/x-python",
   "name": "python",
   "nbconvert_exporter": "python",
   "pygments_lexer": "ipython3",
   "version": "3.7.12"
  }
 },
 "nbformat": 4,
 "nbformat_minor": 5
}
