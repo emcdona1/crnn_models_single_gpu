{
 "cells": [
  {
   "cell_type": "code",
   "execution_count": null,
   "id": "d0caef7f-a2f8-4534-9f60-0bbd82fa6d68",
   "metadata": {},
   "outputs": [],
   "source": [
    "import sys\n",
    "import os\n",
    "root_dir = os.path.join(os.getcwd(), '..')\n",
    "sys.path.append(root_dir)\n",
    "\n",
    "from pathlib import Path\n",
    "import tensorflow as tf\n",
    "from tensorflow import keras\n",
    "from tensorflow.keras import layers\n",
    "\n",
    "from utilities import create_model\n",
    "from utilities import TrainerConfiguration\n",
    "from utilities import TrainDataset"
   ]
  },
  {
   "cell_type": "code",
   "execution_count": null,
   "id": "4244d1bf-c745-497c-b5cb-f2b4622413ff",
   "metadata": {},
   "outputs": [],
   "source": [
    "BATCH_SIZE=128\n",
    "KERNEL_SIZE=4\n",
    "ACTIVATION_FUNCTION='relu'\n",
    "LEARNING_RATE=0.001\n",
    "NUM_UNITS_DENSE=256\n",
    "NUM_UNITS_LTSM2=1024\n",
    "### run 55 parameters\n",
    "DROPOUT=0.12489316869910207\n",
    "NUM_UNITS_LTSM1=512\n",
    "### run 41 parameters\n",
    "# DROPOUT=0.1\n",
    "# NUM_UNITS_LTSM1=768"
   ]
  },
  {
   "cell_type": "code",
   "execution_count": null,
   "id": "4d35897b-c6f6-45db-a783-39521ed61b74",
   "metadata": {},
   "outputs": [],
   "source": [
    "# Load a full model, previously trained\n",
    "model_path = Path('./10-iam_train-run_55-standley_train-retrained_100e_01lr-full_model/')\n",
    "full_model = keras.models.load_model(model_path)"
   ]
  },
  {
   "cell_type": "code",
   "execution_count": null,
   "id": "6de20120-a712-4c3a-ab39-cb71c3437235",
   "metadata": {},
   "outputs": [],
   "source": [
    "# OR, load a PREDICTION model and build a new CTC layer\n",
    "model_path = 'gs://iam-model-staging/run_55_train/model/'\n",
    "pred_model = keras.models.load_model(model_path)\n",
    "pred_model.save_weights(Path('checkpoints', 'pred'))\n",
    "\n",
    "full_model = create_model(KERNEL_SIZE, ACTIVATION_FUNCTION, NUM_UNITS_DENSE, DROPOUT, NUM_UNITS_LTSM1, NUM_UNITS_LTSM2, LEARNING_RATE)\n",
    "full_model.load_weights(Path('checkpoints', 'pred'))"
   ]
  },
  {
   "cell_type": "code",
   "execution_count": null,
   "id": "2e27526c-1ff2-453b-83af-161bd222007d",
   "metadata": {},
   "outputs": [],
   "source": [
    "# load Steyermark or Standley images\n",
    "folder = Path('images/standley_4058_train')\n",
    "metadata = Path('words_metadata.csv')\n",
    "data = TrainDataset()\n",
    "data.create_dataset(BATCH_SIZE, folder, metadata)"
   ]
  },
  {
   "cell_type": "code",
   "execution_count": null,
   "id": "343a323f-f112-48cd-8ee7-222d2221bb5d",
   "metadata": {
    "scrolled": true,
    "tags": []
   },
   "outputs": [],
   "source": [
    "# RETRAIN the model -- fit only on open layers\n",
    "for i in range(len(full_model.layers)):\n",
    "    full_model.layers[i].trainable=False\n",
    "full_model.layers[6].trainable = True\n",
    "full_model.layers[-1].trainable = True\n",
    "full_model.compile(keras.optimizers.Adam(learning_rate=LEARNING_RATE))\n",
    "\n",
    "history = full_model.fit(data.train_dataset, epochs=100, validation_data=data.validation_dataset)\n",
    "\n",
    "full_model.save('retrained-full_model')\n",
    "\n",
    "prediction_model = tf.keras.models.Model(\n",
    "    full_model.get_layer(name='image').input, full_model.get_layer(name='dense_layer').output\n",
    ")\n",
    "prediction_model.compile(tf.keras.optimizers.Adam(learning_rate=LEARNING_RATE))\n",
    "prediction_model.save('retrained')"
   ]
  },
  {
   "cell_type": "code",
   "execution_count": null,
   "id": "c72bab75-44d8-40c8-8062-d89e34fd99c2",
   "metadata": {},
   "outputs": [],
   "source": [
    "# Then, fine tune the model\n",
    "full_model.trainable = True\n",
    "full_model.compile(keras.optimizers.Adam(learning_rate=1e-5))\n",
    "history_fine_tune = full_model.fit(data.train_dataset, epochs=100, validation_data=data.validation_dataset)\n",
    "\n",
    "\n",
    "full_model.save('fine_tuned-full_model')\n",
    "\n",
    "prediction_model = tf.keras.models.Model(\n",
    "    full_model.get_layer(name='image').input, full_model.get_layer(name='dense_layer').output\n",
    ")\n",
    "prediction_model.compile(tf.keras.optimizers.Adam(learning_rate=LEARNING_RATE))\n",
    "prediction_model.save('fine_tuned')"
   ]
  }
 ],
 "metadata": {
  "kernelspec": {
   "display_name": "TensorFlow 2 (Local)",
   "language": "python",
   "name": "local-tf2"
  },
  "language_info": {
   "codemirror_mode": {
    "name": "ipython",
    "version": 3
   },
   "file_extension": ".py",
   "mimetype": "text/x-python",
   "name": "python",
   "nbconvert_exporter": "python",
   "pygments_lexer": "ipython3",
   "version": "3.7.12"
  }
 },
 "nbformat": 4,
 "nbformat_minor": 5
}
