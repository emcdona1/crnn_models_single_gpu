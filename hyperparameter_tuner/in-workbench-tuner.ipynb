{
 "cells": [
  {
   "cell_type": "code",
   "execution_count": 2,
   "id": "aeab2a20-48e6-4d5d-84c3-64da2602ee75",
   "metadata": {},
   "outputs": [],
   "source": [
    "# adapted from: https://io.google/2022/program/934cbc5f-42bb-4f6c-99fe-4972995eb381/\n",
    "from google.cloud import aiplatform\n",
    "from google.cloud.aiplatform import hyperparameter_tuning as hpt"
   ]
  },
  {
   "cell_type": "code",
   "execution_count": 7,
   "id": "255e5200-f8ff-4b46-b6d9-adfabf96c98d",
   "metadata": {},
   "outputs": [],
   "source": [
    "BUCKET_NAME = <<Bucket Name Here>>\n",
    "worker_pool_specs = [{\n",
    "    'machine_spec': {\n",
    "        'machine_type': 'n1-standard-4',\n",
    "        'accelerator_type': 'NVIDIA_TESLA_V100',\n",
    "        'accelerator_count': 1\n",
    "    },\n",
    "    'replica_count': 1,\n",
    "    'container_spec': {\n",
    "        'image_url': 'us-central1-docker.pkg.dev/handwriting-keras-tuner/word-models/iam-tuner:hypertune'\n",
    "    }\n",
    "}]\n",
    "\n",
    "parameter_spec = {\n",
    "    'batch_size': hpt.DiscreteParameterSpec(values=[16, 32, 64, 128], scale=None),\n",
    "    'kernel_size': hpt.DiscreteParameterSpec(values=[2, 3, 4], scale=None),\n",
    "    'activation': hpt.CategoricalParameterSpec(values=['relu', 'sigmoid', 'tanh']),\n",
    "    'dropout': hpt.DoubleParameterSpec(min=0.1, max=0.5, scale='linear'),\n",
    "    'num_units_dense1': hpt.DiscreteParameterSpec(values=[64, 128, 256], scale=None),\n",
    "    'num_units_ltsm1': hpt.DiscreteParameterSpec(values=[128, 256, 512, 768, 1024], scale=None),\n",
    "    'num_units_ltsm2': hpt.DiscreteParameterSpec(values=[128, 256, 512, 768, 1024], scale=None),\n",
    "    'learning_rate': hpt.DoubleParameterSpec(min=0.001, max=1, scale='log'),\n",
    "    \n",
    "}\n",
    "\n",
    "metric_spec = {'val_loss': 'minimize'}"
   ]
  },
  {
   "cell_type": "code",
   "execution_count": null,
   "id": "c63cc815-fec4-430e-9982-65614533d8d7",
   "metadata": {},
   "outputs": [],
   "source": [
    "custom_job = aiplatform.CustomJob(display_name='iam_tuner',\n",
    "                                 worker_pool_specs=worker_pool_specs,\n",
    "                                 staging_bucket=f'gs://{BUCKET_NAME}')\n",
    "\n",
    "hp_job = aiplatform.HyperparameterTuningJob(\n",
    "    display_name='iam_tuner',\n",
    "    custom_job=custom_job,\n",
    "    metric_spec=metric_spec,\n",
    "    parameter_spec=parameter_spec,\n",
    "    max_trial_count=16,\n",
    "    parallel_trial_count=2,\n",
    "    search_algorithm=None\n",
    ")\n",
    "\n",
    "hp_job.run()"
   ]
  }
 ],
 "metadata": {
  "kernelspec": {
   "display_name": "TensorFlow 2 [conda env:root] * (Local)",
   "language": "python",
   "name": "local-conda-root-tf2"
  },
  "language_info": {
   "codemirror_mode": {
    "name": "ipython",
    "version": 3
   },
   "file_extension": ".py",
   "mimetype": "text/x-python",
   "name": "python",
   "nbconvert_exporter": "python",
   "pygments_lexer": "ipython3",
   "version": "3.7.12"
  }
 },
 "nbformat": 4,
 "nbformat_minor": 5
}
